{
 "cells": [
  {
   "cell_type": "markdown",
   "metadata": {},
   "source": [
    "## Engeto, Python akademie 2021, OOP"
   ]
  },
  {
   "cell_type": "markdown",
   "metadata": {},
   "source": [
    "## Obsah lekce:\n",
    "1. Užitečné odkazy\n",
    "2. OOP koncept, obecně\n",
    "3. OOP, Python\n",
    "4. Třídní atributy, třídní metody, statické metody\n",
    "5. Encapsulation\n",
    "6. Abstraction\n",
    "7. Inheritance\n",
    "8. Polymorphism\n",
    "9. Dunder methods -> double underscore methods\n",
    "---\n"
   ]
  },
  {
   "cell_type": "markdown",
   "metadata": {},
   "source": [
    "### Užitečné odkazy\n",
    "- [Oficiální dokumentace pojmu **objektově orientované programování** (wikipedia.org)](https://en.wikipedia.org/wiki/Object-oriented_programming)\n",
    "- [Neoficiální dokumentace **dekorátory** v Pythonu (realpython.com)](https://realpython.com/primer-on-python-decorators/#simple-decorators)\n",
    "---\n"
   ]
  },
  {
   "cell_type": "markdown",
   "metadata": {},
   "source": [
    "### OOP, obecně\n",
    "~Objektově orientované programování je v obecném slova smyslu paradigma. Tedy nějaký způsob pohledu na svět, na věc.<br />\n",
    "\n",
    "Podle pojmenování samotného je tento směr zaměřený na objekty reálného světa. Každý objekt má nějaké vlastnosti a nějaké použití.\n",
    "V reálném světě si představ například **míč**. Má nejaký vlastnosti (objem, hmotnost) a současně jej můžeš používat (házet, kopat, vypustit).<br />\n",
    "\n",
    "Ve světě Pythonu je to například seznam `[]`.  I ten má nějaké vlastnosti a použití.<br />\n",
    "\n",
    "---"
   ]
  },
  {
   "cell_type": "markdown",
   "metadata": {},
   "source": [
    "### OOP, Python\n",
    "Co se programování v Pythonu týče, jak už víme, všechno v Pythonu je nějaký objekt.\n",
    "\n",
    "Na různé objekty můžeme aplikovat různé metody. Třeba různé metody pro `list` a pro `dict`. Takže celkově můžeme říct, že pro použití jednotlivých metod stačí nejprve napsat jméno objektu a za něj s tečkou doplnit jméno metody.<br />\n",
    "\n",
    "```python\n",
    "[].append(\"\")\n",
    "[].insert(0, \"\")\n",
    "```\n",
    "Ze vzoru výše vyplývá jasná terminologie. Objekt `[]` a metoda `append`/`insert`.\n",
    "V podstatě budeme za použití OOP principu schopní v Pythonu vytvořit vlastní objekty a jejich metody.\n",
    "\n",
    "Z těch důležitějších důvodů, proč se orientovat principy OOP je možnost lépe organizovat obsáhlejší kód, možnost lépe udržovat a rozšiřovat do budoucna. Současně také balit různé logické vztahy a souvislosti dohromady."
   ]
  },
  {
   "cell_type": "code",
   "execution_count": null,
   "metadata": {},
   "outputs": [],
   "source": [
    "print(type(None))\n",
    "print(type(True))\n",
    "print(type(5))"
   ]
  },
  {
   "cell_type": "markdown",
   "metadata": {},
   "source": [
    "V Pythonu jsou objekty reprezentovány právě pomocí tříd a jejich instancemi.\n",
    "\n",
    "---\n"
   ]
  },
  {
   "cell_type": "markdown",
   "metadata": {},
   "source": [
    "### Konvence v Pythonu\n",
    "Třída je objekt v Pythonu, stejně jako funkce aj. Současně je opět nutné dodržet jistá syntaktická pravidla:\n",
    "1. Klíčový pojem `class`\n",
    "2. Jméno třídy `Bojovnik` (forma zápisu je `camelCase`)\n",
    "3. Definiční řádek ukončený `:`"
   ]
  },
  {
   "cell_type": "code",
   "execution_count": null,
   "metadata": {},
   "outputs": [],
   "source": [
    "class Bojovnik: \n",
    "    pass"
   ]
  },
  {
   "cell_type": "code",
   "execution_count": null,
   "metadata": {},
   "outputs": [],
   "source": [
    "print(type(Bojovnik))"
   ]
  },
  {
   "cell_type": "markdown",
   "metadata": {},
   "source": [
    "Výpis výše nám v podstatě prozrazuje, že jde pouze o šablonu třídy `Bojovnik`. To nám ale spuštění naší nové třídy nedokončí.<br />\n",
    "\n",
    "Abychom mohli třídu opravdu použít, musíme vytvořit její instanci (jinak řečeno instancovat třídu `Bojovnik`):"
   ]
  },
  {
   "cell_type": "code",
   "execution_count": null,
   "metadata": {},
   "outputs": [],
   "source": [
    "instance_1 = Bojovnik()"
   ]
  },
  {
   "cell_type": "code",
   "execution_count": null,
   "metadata": {
    "scrolled": true
   },
   "outputs": [],
   "source": [
    "print(instance_1)"
   ]
  },
  {
   "cell_type": "markdown",
   "metadata": {},
   "source": [
    "Teprve nyní dostávám výstup interpreta, že se jedná o instanci třídy `Bojovnik`, která má konkrétní umístění v naší paměti."
   ]
  },
  {
   "cell_type": "markdown",
   "metadata": {},
   "source": [
    "#### Terminologie"
   ]
  },
  {
   "cell_type": "code",
   "execution_count": null,
   "metadata": {},
   "outputs": [],
   "source": [
    "from IPython.display import Image\n",
    "PATH = \"/home/matous/projects/python-workshop/materials/08_oop/\"\n",
    "Image(filename = PATH + \"1_25_2021_1.png\", width=500)"
   ]
  },
  {
   "cell_type": "markdown",
   "metadata": {},
   "source": [
    "Tedy `class` je nějaká vzorová šablona, podle které vytvoříme instanci `instance`. Tento proces vytvoření označujeme jako instancování (`instantiate`).<br />\n",
    "\n",
    "Výhodou tedy je uložení definice třídy do paměti. Potom, když budu chtít vytvořit instanci, navštívím tuto definici tolikrát, kolik budu chtít instancí (resp.tolikrát spustím třídu)."
   ]
  },
  {
   "cell_type": "code",
   "execution_count": null,
   "metadata": {},
   "outputs": [],
   "source": [
    "class Bojovnik:\n",
    "    def __init__(self, jmeno):  # self - pomaha pri instancovani\n",
    "        self.jmeno = jmeno      # self - odkaz na neco, co jsem jeste nevytvoril, ale pocitam s tim"
   ]
  },
  {
   "cell_type": "markdown",
   "metadata": {},
   "source": [
    "Klíčový pojem `self` je tu od toho, abychom mohli v budoucnu vytvořené instanci přidat konkrétní hodnotu `jmeno`.<br />\n",
    "\n",
    "Pokud instanci nevytvoříte a budete chtít vypsat proměnnou `jmeno` bez ní, dostaneme `AttributeError`, protože třída samotná nebude schopna tuto proměnnou najít."
   ]
  },
  {
   "cell_type": "code",
   "execution_count": null,
   "metadata": {},
   "outputs": [],
   "source": [
    "inst_1 = Bojovnik(\"Matous\")"
   ]
  },
  {
   "cell_type": "code",
   "execution_count": null,
   "metadata": {},
   "outputs": [],
   "source": [
    "print(inst_1.jmeno)"
   ]
  },
  {
   "cell_type": "code",
   "execution_count": null,
   "metadata": {},
   "outputs": [],
   "source": [
    "Bojovnik.jmeno"
   ]
  },
  {
   "cell_type": "markdown",
   "metadata": {},
   "source": [
    "TypeError -> pri instancovani tridy jsem zapomnel pos.arg `name`. Musime doplnit pro spravny beh a vytvoreni instance `pl_1`."
   ]
  },
  {
   "cell_type": "markdown",
   "metadata": {},
   "source": [
    "Na základě tohoto můžeme pomocí `self` vytvořit různé množství hráčů, kdy každý bude mít svoje unikátní jméno."
   ]
  },
  {
   "cell_type": "code",
   "execution_count": null,
   "metadata": {},
   "outputs": [],
   "source": [
    "inst_2 = Bojovnik(\"Tomas\")\n",
    "inst_3 = Bojovnik(\"Petr\")\n",
    "inst_4 = Bojovnik(\"Vojta\")"
   ]
  },
  {
   "cell_type": "code",
   "execution_count": null,
   "metadata": {},
   "outputs": [],
   "source": [
    "print(inst_2.jmeno)\n",
    "print(inst_2.jmeno)\n",
    "print(inst_3.jmeno)"
   ]
  },
  {
   "cell_type": "markdown",
   "metadata": {},
   "source": [
    "---\n",
    "### Metoda třídy\n",
    "O speciální metodě `__init__` již víme. Pojďme si vyzkoušet definici nějaké krátké úvodní metody:"
   ]
  },
  {
   "cell_type": "code",
   "execution_count": null,
   "metadata": {},
   "outputs": [],
   "source": [
    "class Bojovnik:\n",
    "    def __init__(self, jmeno):\n",
    "        self.jmeno = jmeno\n",
    "        \n",
    "    def pozdrav(self):\n",
    "        return f\"Ahoj, me jmeno je {self.jmeno}\""
   ]
  },
  {
   "cell_type": "code",
   "execution_count": null,
   "metadata": {},
   "outputs": [],
   "source": [
    "inst_1 = Bojovnik(\"Matous\")"
   ]
  },
  {
   "cell_type": "code",
   "execution_count": null,
   "metadata": {},
   "outputs": [],
   "source": [
    "inst_1.pozdrav()"
   ]
  },
  {
   "cell_type": "markdown",
   "metadata": {},
   "source": [
    "### Atribut třídy\n",
    "Jde o informace o jednotlivých třídách. Tedy vlastnosti uložené formou proměnných v rámci třídy.<br />\n",
    "\n",
    "Rozlišujeme:\n",
    "1. Atributy **třídy**\n",
    "2. Atributy **instance**"
   ]
  },
  {
   "cell_type": "code",
   "execution_count": null,
   "metadata": {},
   "outputs": [],
   "source": [
    "class Bojovnik:\n",
    "    zdravi = 100  # tridni atribut (staticky)\n",
    "\n",
    "    def __init__(self, jmeno):\n",
    "        self.jmeno = jmeno  # instancni atribut (dynamicky)\n",
    "        \n",
    "    def pozdrav(self):\n",
    "        return f\"Ahoj, me jmeno je {self.jmeno}\""
   ]
  },
  {
   "cell_type": "markdown",
   "metadata": {},
   "source": [
    "`jmeno` tedy není třídní atribut (nepatří třídě samotné), a proto jej třída `Bojovnik` neumí zpřístupnit. Je to ale proměnná, která patří metodě `__init__`. Takže k ní bude mít třída přístup až po vytvoření instance (tedy po instancování třídy)"
   ]
  },
  {
   "cell_type": "code",
   "execution_count": null,
   "metadata": {},
   "outputs": [],
   "source": [
    "Bojovnik.zdravi"
   ]
  },
  {
   "cell_type": "code",
   "execution_count": null,
   "metadata": {},
   "outputs": [],
   "source": [
    "Bojovnik.jmeno"
   ]
  },
  {
   "cell_type": "code",
   "execution_count": null,
   "metadata": {},
   "outputs": [],
   "source": [
    "bojovnik_1 = Bojovnik(\"Matous\")\n",
    "bojovnik_2 = Bojovnik(\"Lukas\")"
   ]
  },
  {
   "cell_type": "code",
   "execution_count": null,
   "metadata": {},
   "outputs": [],
   "source": [
    "print(bojovnik_1.jmeno)\n",
    "print(bojovnik_2.jmeno)"
   ]
  },
  {
   "cell_type": "code",
   "execution_count": null,
   "metadata": {},
   "outputs": [],
   "source": [
    "print(bojovnik_1.zdravi)\n",
    "print(bojovnik_2.zdravi)"
   ]
  },
  {
   "cell_type": "markdown",
   "metadata": {},
   "source": [
    "### První část úlohy:\n",
    "Definujeme třídy `Bojovnik` a `Kouzelnik`. Obě tyto třídy budou mít instanční atributy `jmeno`, `sila` a `zivoty`.<br />\n",
    "\n",
    "Dále obě z těchto tříd budou mít metody `pozdrav` a `zdravi`:"
   ]
  },
  {
   "cell_type": "code",
   "execution_count": null,
   "metadata": {},
   "outputs": [],
   "source": [
    "class Bojovnik:  \n",
    "    def __init__(self, jmeno, sila, zivoty):\n",
    "        self.jmeno = jmeno\n",
    "        self.sila = sila\n",
    "        self.zivoty = zivoty\n",
    "        \n",
    "    def pozdrav(self):\n",
    "        return f\"{self.jmeno.upper()}: Ahoj, jsem bojovnik!\"\n",
    "    \n",
    "    def zdravi(self):\n",
    "        return f\"Mam zdravi {self.zdravi}\""
   ]
  },
  {
   "cell_type": "code",
   "execution_count": null,
   "metadata": {},
   "outputs": [],
   "source": [
    "class Kouzelnik:  \n",
    "    def __init__(self, jmeno, sila, zivoty):\n",
    "        self.jmeno = jmeno\n",
    "        self.sila = sila\n",
    "        self.zivoty = zivoty\n",
    "        \n",
    "    def pozdrav(self):\n",
    "        return f\"{self.jmeno.upper()}: Ahoj, jsem kouzelnik!\"\n",
    "    \n",
    "    def zdravi(self):\n",
    "        return f\"Mam zdravi {self.zdravi}\""
   ]
  },
  {
   "cell_type": "code",
   "execution_count": null,
   "metadata": {},
   "outputs": [],
   "source": [
    "hrac_1 = Bojovnik(\"Arnold\", 10, 10)\n",
    "hrac_2 = Kouzelnik(\"Matous\", 5, 7)"
   ]
  },
  {
   "cell_type": "code",
   "execution_count": null,
   "metadata": {},
   "outputs": [],
   "source": [
    "print(hrac_1.pozdrav())\n",
    "print(hrac_2.pozdrav())"
   ]
  },
  {
   "cell_type": "markdown",
   "metadata": {},
   "source": [
    "### @Classmethod & @staticmethod\n",
    "Třídní a statické metoda, co to je a proč bych to měl/mohl použít?\n",
    "\n",
    "Jsou to tzv. dekorátory (viz. sekce užitečné odkazy), které slouží k tomuto účelu: "
   ]
  },
  {
   "cell_type": "code",
   "execution_count": null,
   "metadata": {},
   "outputs": [],
   "source": [
    "class NovaTrida:\n",
    "    def metoda(self):\n",
    "        return \"Spoustim metodu instance\", self\n",
    "\n",
    "    @classmethod\n",
    "    def tridni_metoda(cls):\n",
    "        return \"Spoustim metodu tridy\", cls\n",
    "    \n",
    "    @staticmethod\n",
    "    def staticka_metoda():\n",
    "        return \"Spoustim statickou metodu\""
   ]
  },
  {
   "cell_type": "code",
   "execution_count": null,
   "metadata": {},
   "outputs": [],
   "source": [
    "instance_1 = NovaTrida()"
   ]
  },
  {
   "cell_type": "code",
   "execution_count": null,
   "metadata": {},
   "outputs": [],
   "source": [
    "instance_1.metoda()"
   ]
  },
  {
   "cell_type": "markdown",
   "metadata": {},
   "source": [
    "Mám přístup k objektu instance třídy `NovaTrida`, současně vidím, že ukazuje na skutečný objekt do paměti (`0x7f41bc..`)"
   ]
  },
  {
   "cell_type": "code",
   "execution_count": null,
   "metadata": {},
   "outputs": [],
   "source": [
    "instance_1.tridni_metoda()"
   ]
  },
  {
   "cell_type": "markdown",
   "metadata": {},
   "source": [
    "Pomocí built-in dekorátoru `@classmethod` vidím šablonu, tedy původní třídu `NovaTrida`. Tentokrát ale nemám k dispozici odkaz na instanci třídy."
   ]
  },
  {
   "cell_type": "code",
   "execution_count": null,
   "metadata": {},
   "outputs": [],
   "source": [
    "instance_1.staticka_metoda()"
   ]
  },
  {
   "cell_type": "markdown",
   "metadata": {},
   "source": [
    "Statická metoda potom nemá žádnou vazbu ani na původní třídu, ani na jeji instance.<br />\n",
    "\n",
    "Pokud spustíme třídu aniž bychom ji instancovali, všimněte si rozdílu při spouštění:"
   ]
  },
  {
   "cell_type": "code",
   "execution_count": null,
   "metadata": {
    "scrolled": true
   },
   "outputs": [],
   "source": [
    "NovaTrida.tridni_metoda()"
   ]
  },
  {
   "cell_type": "code",
   "execution_count": null,
   "metadata": {
    "scrolled": true
   },
   "outputs": [],
   "source": [
    "NovaTrida.staticka_metoda()"
   ]
  },
  {
   "cell_type": "code",
   "execution_count": null,
   "metadata": {
    "scrolled": true
   },
   "outputs": [],
   "source": [
    "NovaTrida.metoda()"
   ]
  },
  {
   "cell_type": "markdown",
   "metadata": {},
   "source": [
    "#### Shrnutí:\n",
    "1. `instanční metoda` - může upravit stav instance objektu a může upravit stav třídy (na začátku vidí jak třídu, tak instanci)<br />\n",
    "\n",
    "2. `@classmethod` - nemůže upravovat stav instance ale může upravovat stav třídy (výše viděl třídu, ale ne instanci)\n",
    "3. `@staticmethod` - nemůže upravovat ani stav instance, ani stav třídy (ve variantách níže neviděla ani třídu, ani její instanci)"
   ]
  },
  {
   "cell_type": "markdown",
   "metadata": {},
   "source": [
    "#### Praktická ukázka `@classmethod`"
   ]
  },
  {
   "cell_type": "code",
   "execution_count": null,
   "metadata": {},
   "outputs": [],
   "source": [
    "class Kucharka:\n",
    "    def __init__(self, ingredience):\n",
    "        self.ingredience = ingredience\n",
    "        \n",
    "    def __repr__(self):\n",
    "        return f\"Pokrm z {self.ingredience}\""
   ]
  },
  {
   "cell_type": "code",
   "execution_count": null,
   "metadata": {},
   "outputs": [],
   "source": [
    "Kucharka([\"vejce\", \"cibule\", \"slanina\"])  # michana vajicka"
   ]
  },
  {
   "cell_type": "code",
   "execution_count": null,
   "metadata": {},
   "outputs": [],
   "source": [
    "Kucharka([\"parek\", \"houska\", \"horcice\"])  # hot-dog"
   ]
  },
  {
   "cell_type": "markdown",
   "metadata": {},
   "source": [
    "Řekněme, že si chceme tyto pokrmy zapamatovat. Nechceme vytvářet jejich instance neustále dokola:"
   ]
  },
  {
   "cell_type": "code",
   "execution_count": null,
   "metadata": {},
   "outputs": [],
   "source": [
    "class Kucharka:\n",
    "    def __init__(self, ingredience):\n",
    "        self.ingredience = ingredience\n",
    "        \n",
    "    def __repr__(self):\n",
    "        return f\"Pokrm z {self.ingredience}\"\n",
    "    \n",
    "    @classmethod\n",
    "    def michane_vajicka(cls):\n",
    "        return cls([\"vejce\", \"cibule\", \"slanina\"])\n",
    "    \n",
    "    @classmethod\n",
    "    def hot_dog(cls):\n",
    "        return cls([\"parek\", \"houska\", \"horcice\"])"
   ]
  },
  {
   "cell_type": "code",
   "execution_count": null,
   "metadata": {
    "scrolled": true
   },
   "outputs": [],
   "source": [
    "print(Kucharka.michane_vajicka())  # michana vajicka\n",
    "print(Kucharka.hot_dog())  # hot-dog\n",
    "print(Kucharka([\"makarony\", \"cheddar\", \"smetana\"]))  # mac&cheese!"
   ]
  },
  {
   "cell_type": "markdown",
   "metadata": {},
   "source": [
    "#### Praktická ukázka `@staticmethod`\n",
    "V další ukázce chceme rychlo ohodnotit, jestli je konkrétní jídlo nachystané snadno, příp. je příliš komplikované pro schopnosti podprůměrného kuchaře:"
   ]
  },
  {
   "cell_type": "code",
   "execution_count": null,
   "metadata": {},
   "outputs": [],
   "source": [
    "class Kucharka:\n",
    "    def __init__(self, ingredience, cas):\n",
    "        self.ingredience = ingredience\n",
    "        self.cas = cas\n",
    "        \n",
    "    def __repr__(self):\n",
    "        return f\"Pokrm z {self.ingredience}\"\n",
    "    \n",
    "    def je_narocne(self):\n",
    "        return self.vyhodnoceni_narocnosti(self.cas)\n",
    "\n",
    "    @staticmethod\n",
    "    def vyhodnoceni_narocnosti(delka_prip):\n",
    "        if 1 <= delka_prip <= 10:\n",
    "            return \"Snadne jidlo\"\n",
    "        elif 11 < delka_prip < 30:\n",
    "            return \"Narocne jidlo\"\n",
    "    \n",
    "    @classmethod\n",
    "    def michane_vajicka(cls):\n",
    "        return cls([\"vejce\", \"cibule\", \"slanina\"], 10)\n",
    "    \n",
    "    @classmethod\n",
    "    def hot_dog(cls):\n",
    "        return cls([\"parek\", \"houska\", \"horcice\"], 5)"
   ]
  },
  {
   "cell_type": "code",
   "execution_count": null,
   "metadata": {
    "scrolled": false
   },
   "outputs": [],
   "source": [
    "print(Kucharka.hot_dog().je_narocne())\n",
    "print(Kucharka.michane_vajicka().je_narocne())"
   ]
  },
  {
   "cell_type": "markdown",
   "metadata": {},
   "source": [
    "### Druhá část úlohy"
   ]
  },
  {
   "cell_type": "code",
   "execution_count": null,
   "metadata": {},
   "outputs": [],
   "source": [
    "class Bojovnik:  \n",
    "    def __init__(self, jmeno, sila, zivoty):\n",
    "        self.jmeno = jmeno\n",
    "        self.sila = sila\n",
    "        self.zivoty = zivoty\n",
    "        \n",
    "    def pozdrav(self):\n",
    "        return f\"{self.jmeno.upper()}: Ahoj, jsem bojovnik!\"\n",
    "    \n",
    "    def zdravi(self):\n",
    "        return f\"Mam zdravi {self.zdravi}\"\n",
    "    \n",
    "    @classmethod\n",
    "    def vytvor_instanci(cls):\n",
    "        return cls(\"Arnold\", 10, 10)"
   ]
  },
  {
   "cell_type": "code",
   "execution_count": null,
   "metadata": {},
   "outputs": [],
   "source": [
    "class Kouzelnik:  \n",
    "    def __init__(self, jmeno, sila, zivoty):\n",
    "        self.jmeno = jmeno\n",
    "        self.sila = sila\n",
    "        self.zivoty = zivoty\n",
    "        \n",
    "    def pozdrav(self):\n",
    "        return f\"{self.jmeno.upper()}: Ahoj, jsem kouzelnik!\"\n",
    "    \n",
    "    def zdravi(self):\n",
    "        return f\"Mam zdravi {self.zdravi}\"\n",
    "        \n",
    "    @classmethod\n",
    "    def vytvor_instanci(cls):\n",
    "        return cls(\"Matous\", 5, 7)"
   ]
  },
  {
   "cell_type": "code",
   "execution_count": null,
   "metadata": {},
   "outputs": [],
   "source": [
    "hrac_1 = Bojovnik.vytvor_instanci()\n",
    "hrac_2 = Kouzelnik.vytvor_instanci()"
   ]
  },
  {
   "cell_type": "code",
   "execution_count": null,
   "metadata": {},
   "outputs": [],
   "source": [
    "print(hrac_1.pozdrav())\n",
    "print(hrac_2.pozdrav())"
   ]
  },
  {
   "cell_type": "markdown",
   "metadata": {},
   "source": [
    "### Čtyři základní pilíře OOP v Pythonu\n",
    "Ve skutečnosti jde o čtyři teoretické základy, kterých lze využívat v OOP, příp. na kterých OOP obecně stojí."
   ]
  },
  {
   "cell_type": "markdown",
   "metadata": {},
   "source": [
    "### Encapsulation"
   ]
  },
  {
   "cell_type": "markdown",
   "metadata": {},
   "source": [
    "~Zapouzdření, resp. jde o schování atributů a metod do třídy. Jde o takové atributy a metody, které se třídou logicky souvisejí.<br />\n",
    "V opačném případě bych musel mít několik proměnných a různých funkcí s parametry.<br />\n",
    "\n",
    "Praktickou ukázkou může být samotný datový typ `string`. Ten má řadu metod, které s tímto konkrétním datovým typem souvisejí a díky zapouzdření je mámě pořád po ruce:\n",
    "```python\n",
    "\"matous\".title()\n",
    "\"1234\".isnumeric()\n",
    "\"OOP\".isupper()\n",
    "```\n",
    "\n",
    "Pokud bychom definovali třídu, která bude mít pouze atributy ale nebude mít proměnné, jde prakticky o slovnik. Proto třídám nepřiřazujeme pouze atributy, ale i logicky související metody. Není potřeba definovat více slovníků než je ten zabudovaný."
   ]
  },
  {
   "cell_type": "code",
   "execution_count": null,
   "metadata": {},
   "outputs": [],
   "source": [
    "class Kouzelnik:  \n",
    "    def __init__(self, jmeno, sila, zivoty):\n",
    "        self.jmeno = jmeno\n",
    "        self.sila = sila\n",
    "        self.zivoty = zivoty\n",
    "        \n",
    "    def pozdrav(self):\n",
    "        return f\"{self.jmeno.upper()}: Ahoj, jsem kouzelnik!\"\n",
    "    \n",
    "    def zdravi(self):\n",
    "        return f\"{self.jmeno.upper()}: {self.zivoty} zivotu\"\n",
    "        \n",
    "    @classmethod\n",
    "    def vytvor_instanci(cls):\n",
    "        return cls(\"Matous\", 5, 7)"
   ]
  },
  {
   "cell_type": "code",
   "execution_count": null,
   "metadata": {},
   "outputs": [],
   "source": [
    "hrac_1 = Kouzelnik.vytvor_instanci()"
   ]
  },
  {
   "cell_type": "code",
   "execution_count": null,
   "metadata": {},
   "outputs": [],
   "source": [
    "print(hrac_1.pozdrav())"
   ]
  },
  {
   "cell_type": "code",
   "execution_count": null,
   "metadata": {},
   "outputs": [],
   "source": [
    "print(hrac_1.zdravi())"
   ]
  },
  {
   "cell_type": "markdown",
   "metadata": {},
   "source": [
    "### Abstraction\n",
    "~Abstrakce, slouží k tomu, abychom nemuseli řešit jednotlivé implementace metod, ale přímo je použili pomocí jejich jména.<br />\n",
    "\n",
    "Podobně jako u slovníku používáme metodu `get` nebo funkci `len`:\n",
    "```python\n",
    "HRACI = {\"hrac_1\": \"Matous\", \"hrac_2\": \"Marek\"}\n",
    "HRACI.get(\"hrac_1\")\n",
    "len(HRACI)\n",
    "```\n",
    "Díky abstrakci je pro uživatele práce s metodami snazší. Stejně jako nepotřebujeme do detailů znát, co se stane, pokud v telefonu vyfotím obrázek. Neznám jména všech tříd, příp. funkcí. Pouze vím, že pokud zmáčknu tlačítko, pořídím si snímek.\n",
    "\n",
    "Pro nezkušeného uživatele ale může být abstrakce kámen úrazu, kvůli  přepsání metod atd."
   ]
  },
  {
   "cell_type": "code",
   "execution_count": null,
   "metadata": {},
   "outputs": [],
   "source": [
    "class Bojovnik:  \n",
    "    def __init__(self, jmeno, sila, zivoty):\n",
    "        self.jmeno = jmeno\n",
    "        self.sila = sila\n",
    "        self.zivoty = zivoty\n",
    "        \n",
    "    def pozdrav(self):\n",
    "        return f\"{self.jmeno.upper()}: Ahoj, jsem bojovnik!\"\n",
    "    \n",
    "    def zdravi(self):\n",
    "        return f\"{self.jmeno.upper()}: {self.zivoty} zivotu\"\n",
    "    \n",
    "    @classmethod\n",
    "    def vytvor_instanci(cls):\n",
    "        return cls(\"Arnold\", 10, 10)"
   ]
  },
  {
   "cell_type": "code",
   "execution_count": null,
   "metadata": {},
   "outputs": [],
   "source": [
    "bojovnik_1 = Bojovnik.vytvor_instanci()"
   ]
  },
  {
   "cell_type": "code",
   "execution_count": null,
   "metadata": {},
   "outputs": [],
   "source": [
    "print(bojovnik_1.pozdrav())\n",
    "print(bojovnik_1.zdravi())"
   ]
  },
  {
   "cell_type": "markdown",
   "metadata": {},
   "source": [
    "Tentokrát si chci přetypovat hodnotu uloženou pomocí metody `zdravi` na `\"100 zivotu\"`:"
   ]
  },
  {
   "cell_type": "code",
   "execution_count": null,
   "metadata": {},
   "outputs": [],
   "source": [
    "bojovnik_1.zdravi = \"100 zivotu\""
   ]
  },
  {
   "cell_type": "code",
   "execution_count": null,
   "metadata": {},
   "outputs": [],
   "source": [
    "print(bojovnik_1.zdravi())"
   ]
  },
  {
   "cell_type": "markdown",
   "metadata": {},
   "source": [
    "Některé jazyky implicitně dovolují práci s pomocí **privátních** proměnných (~Java).<br />\n",
    "\n",
    "Python tuto funkcionalitu **nepodporuje**. Je možné metodu nebo atribut označit pomocí jednoho podtržítka, ale to pouze **naznačuje** ostatní programátorům, že tato hodnota/metoda by neměla být záměrně přepisována.<br />"
   ]
  },
  {
   "cell_type": "code",
   "execution_count": null,
   "metadata": {},
   "outputs": [],
   "source": [
    "class Uvadec:\n",
    "    def __init__(self, jmeno, vek):\n",
    "        self.jmeno = jmeno\n",
    "        self.vek = vek\n",
    "        \n",
    "    def uvedeni(self):\n",
    "        return f\"Jmenuji se {self.jmeno} a je mi {self.vek}\""
   ]
  },
  {
   "cell_type": "code",
   "execution_count": null,
   "metadata": {},
   "outputs": [],
   "source": [
    "uvod = Uvadec(\"Matous\", 30)"
   ]
  },
  {
   "cell_type": "code",
   "execution_count": null,
   "metadata": {},
   "outputs": [],
   "source": [
    "print(uvod.jmeno)\n",
    "print(uvod.vek)"
   ]
  },
  {
   "cell_type": "code",
   "execution_count": null,
   "metadata": {},
   "outputs": [],
   "source": [
    "print(uvod.uvedeni())"
   ]
  },
  {
   "cell_type": "markdown",
   "metadata": {},
   "source": [
    "Instanční atributy `jmeno` a  `vek` doplníme podtržítkem v úvodu a vytvoříme další instancí této třídy:"
   ]
  },
  {
   "cell_type": "code",
   "execution_count": null,
   "metadata": {},
   "outputs": [],
   "source": [
    "class Uvadec:\n",
    "    def __init__(self, jmeno, vek):\n",
    "        self._jmeno = jmeno\n",
    "        self._vek = vek\n",
    "        \n",
    "    def uvedeni(self):\n",
    "        return f\"Jmenuji se {self._jmeno} a je mi {self._vek}\""
   ]
  },
  {
   "cell_type": "code",
   "execution_count": null,
   "metadata": {},
   "outputs": [],
   "source": [
    "uvod = Uvadec(\"Matous\", 30)"
   ]
  },
  {
   "cell_type": "code",
   "execution_count": null,
   "metadata": {},
   "outputs": [],
   "source": [
    "print(uvod.jmeno)\n",
    "print(uvod.vek)"
   ]
  },
  {
   "cell_type": "code",
   "execution_count": null,
   "metadata": {
    "scrolled": true
   },
   "outputs": [],
   "source": [
    "print(uvod._jmeno)\n",
    "print(uvod._vek)"
   ]
  },
  {
   "cell_type": "code",
   "execution_count": null,
   "metadata": {},
   "outputs": [],
   "source": [
    "uvod._jmeno = \"Marek\""
   ]
  },
  {
   "cell_type": "code",
   "execution_count": null,
   "metadata": {},
   "outputs": [],
   "source": [
    "print(uvod.uvedeni())"
   ]
  },
  {
   "cell_type": "markdown",
   "metadata": {},
   "source": [
    "Pomocí dvou podtržítek uživatel může definovat **chráněné** proměnné a tím předejít přetypování atributů. Nicméně opět nejde o neprůstřelné řešení"
   ]
  },
  {
   "cell_type": "code",
   "execution_count": null,
   "metadata": {},
   "outputs": [],
   "source": [
    "class Uvadec:\n",
    "    def __init__(self, jmeno, vek):\n",
    "        self.__jmeno = jmeno\n",
    "        self._vek = vek\n",
    "        \n",
    "    def uvedeni(self):\n",
    "        return f\"Jmenuji se {self.__jmeno} a je mi {self._vek}\""
   ]
  },
  {
   "cell_type": "code",
   "execution_count": null,
   "metadata": {},
   "outputs": [],
   "source": [
    "uvod_2 = Uvadec(\"Matous\", 16)"
   ]
  },
  {
   "cell_type": "code",
   "execution_count": null,
   "metadata": {},
   "outputs": [],
   "source": [
    "uvod_2.__jmeno = \"Marek\""
   ]
  },
  {
   "cell_type": "code",
   "execution_count": null,
   "metadata": {},
   "outputs": [],
   "source": [
    "print(uvod_2.uvedeni())"
   ]
  },
  {
   "cell_type": "markdown",
   "metadata": {},
   "source": [
    "<img src=https://media.giphy.com/media/RyXVu4ZW454IM/source.gif width=\"500\">"
   ]
  },
  {
   "cell_type": "code",
   "execution_count": null,
   "metadata": {},
   "outputs": [],
   "source": [
    "uvod_2.__dict__"
   ]
  },
  {
   "cell_type": "code",
   "execution_count": null,
   "metadata": {},
   "outputs": [],
   "source": [
    "uvod_2._Uvadec__jmeno = \"Marek\""
   ]
  },
  {
   "cell_type": "code",
   "execution_count": null,
   "metadata": {},
   "outputs": [],
   "source": [
    "print(uvod_2.uvedeni())"
   ]
  },
  {
   "cell_type": "markdown",
   "metadata": {},
   "source": [
    "Obecně je doporučené se zápisem se dvěma podtržítky vyhýbat. Žádné proměnné `__foo` tedy nejsou považované jako vhodné jména (opatrně na magické metody)."
   ]
  },
  {
   "cell_type": "markdown",
   "metadata": {},
   "source": [
    "### Inheritance\n",
    "~dědičnost,výhodný koncept, pokud potřebujeme přenést závislosti z hierarchického rodiče třídy, na její potomky.<br />\n",
    "\n",
    "Jsme ihned schopni více exaktněji popsat reálné objekty. Podívejte na teoretické příklady níže:\n",
    "1. Pokrm -> Pizza -> Salami\n",
    "2. DopravniProstredek -> OsobniAutomobil -> Porsche\n",
    "3. Clovek -> Zamestnanec -> Petr"
   ]
  },
  {
   "cell_type": "code",
   "execution_count": null,
   "metadata": {},
   "outputs": [],
   "source": [
    "import random"
   ]
  },
  {
   "cell_type": "code",
   "execution_count": null,
   "metadata": {},
   "outputs": [],
   "source": [
    "class Clovek:\n",
    "    mod_zdravi = 10    # celk_zdravi = mod * zivoty\n",
    "    mod_energie = 5    # clovek=prumer; bojovnik -1; kouzelnik +1\n",
    "    mod_moudrost = 1   # clovek=prumer; bojovnik -1; kouzelnik +1"
   ]
  },
  {
   "cell_type": "code",
   "execution_count": null,
   "metadata": {},
   "outputs": [],
   "source": [
    "class Bojovnik(Clovek):  \n",
    "    def __init__(self, jmeno, sila, zivoty):\n",
    "        self.jmeno = jmeno\n",
    "        self.zivoty = zivoty\n",
    "        self.sila = self.sila_utoku(sila)\n",
    "        self.energie = self.mod_energie - 1\n",
    "        self.max_zivoty = self.zdravi(zivoty)\n",
    "        self.moudrost = self.mod_moudrost - 1\n",
    "  \n",
    "    def pozdrav(self):\n",
    "        return f\"{self.jmeno.upper()}: Ahoj, jsem bojovnik!\"\n",
    "    \n",
    "    def zdravi(self, zivoty):\n",
    "        return self.mod_zdravi * zivoty\n",
    "    \n",
    "    @staticmethod\n",
    "    def sila_utoku(sila):\n",
    "        return random.choice(range(sila + 1))\n",
    "    \n",
    "    @classmethod\n",
    "    def vytvor_instanci(cls):\n",
    "        return cls(\"Arnold\", 40, 10)"
   ]
  },
  {
   "cell_type": "code",
   "execution_count": null,
   "metadata": {},
   "outputs": [],
   "source": [
    "bojovnik_1 = Bojovnik.vytvor_instanci()"
   ]
  },
  {
   "cell_type": "code",
   "execution_count": null,
   "metadata": {},
   "outputs": [],
   "source": [
    "print(bojovnik_1.jmeno)\n",
    "print(bojovnik_1.sila)\n",
    "print(bojovnik_1.max_zivoty)\n",
    "print(bojovnik_1.moudrost)\n",
    "print(bojovnik_1.energie)"
   ]
  },
  {
   "cell_type": "code",
   "execution_count": null,
   "metadata": {},
   "outputs": [],
   "source": [
    "class Kouzelnik(Clovek):  \n",
    "    def __init__(self, jmeno, sila, zivoty):\n",
    "        self.jmeno = jmeno\n",
    "        self.zivoty = zivoty\n",
    "        self.sila = self.sila_utoku(sila)\n",
    "        self.energie = self.mod_energie + 1\n",
    "        self.max_zivoty = self.zdravi(zivoty)\n",
    "        self.moudrost = self.mod_moudrost + 1\n",
    "        \n",
    "    def pozdrav(self):\n",
    "        return f\"{self.jmeno.upper()}: Ahoj, jsem kouzelnik!\"\n",
    "    \n",
    "    def zdravi(self, zivoty):\n",
    "        return self.mod_zdravi * zivoty\n",
    "    \n",
    "    @staticmethod\n",
    "    def sila_utoku(sila):\n",
    "        return sila\n",
    "        \n",
    "    @classmethod\n",
    "    def vytvor_instanci(cls):\n",
    "        return cls(\"Matous\", 25, 7)"
   ]
  },
  {
   "cell_type": "code",
   "execution_count": null,
   "metadata": {},
   "outputs": [],
   "source": [
    "kouzelnik_1 = Kouzelnik.vytvor_instanci()"
   ]
  },
  {
   "cell_type": "code",
   "execution_count": null,
   "metadata": {},
   "outputs": [],
   "source": [
    "print(kouzelnik_1.jmeno)\n",
    "print(kouzelnik_1.sila)\n",
    "print(kouzelnik_1.max_zivoty)\n",
    "print(kouzelnik_1.moudrost)\n",
    "print(kouzelnik_1.energie)"
   ]
  },
  {
   "cell_type": "markdown",
   "metadata": {},
   "source": [
    "### Polymorphism"
   ]
  },
  {
   "cell_type": "markdown",
   "metadata": {},
   "source": [
    "~polymorfismus, je pojem, kdy různé třídy mohou používat metody se stejnými jmény. Tyto metody však mají jiné účely, jiný průběh.<br />"
   ]
  },
  {
   "cell_type": "code",
   "execution_count": null,
   "metadata": {},
   "outputs": [],
   "source": [
    "def utok_hrace(hrac):\n",
    "    return f\"Utoci {hrac.jmeno} o sile {hrac.sila}\""
   ]
  },
  {
   "cell_type": "code",
   "execution_count": null,
   "metadata": {
    "scrolled": true
   },
   "outputs": [],
   "source": [
    "print(utok_hrace(bojovnik_1))\n",
    "print(utok_hrace(kouzelnik_1))"
   ]
  },
  {
   "cell_type": "markdown",
   "metadata": {},
   "source": [
    "Pokud bych chtěl použít metodu rodičovské třídy a ne metodu dceřinné třídy, musím její jmeno explicitně vypsat:\n",
    "```python\n",
    "class Bojovnik(Clovek):\n",
    "    ...\n",
    "    Clovek.sila_utoku()\n",
    "```"
   ]
  },
  {
   "cell_type": "markdown",
   "metadata": {},
   "source": [
    "### Třetí část úlohy"
   ]
  },
  {
   "cell_type": "code",
   "execution_count": 1,
   "metadata": {},
   "outputs": [],
   "source": [
    "import time\n",
    "import random\n",
    "\n",
    "from IPython.display import clear_output"
   ]
  },
  {
   "cell_type": "code",
   "execution_count": 2,
   "metadata": {},
   "outputs": [],
   "source": [
    "class Clovek:\n",
    "    mod_zdravi = 10\n",
    "    mod_energie = 5\n",
    "    mod_moudrost = 1"
   ]
  },
  {
   "cell_type": "code",
   "execution_count": 3,
   "metadata": {},
   "outputs": [],
   "source": [
    "class Bojovnik(Clovek):  \n",
    "    def __init__(self, jmeno, sila, zivoty):\n",
    "        self.jmeno = jmeno\n",
    "        self.zivoty = zivoty\n",
    "        self.sila = sila\n",
    "        self.energie = self.mod_energie - 1\n",
    "        self.max_zivoty = self.zdravi(zivoty)\n",
    "        self.akt_zivoty = self.max_zivoty\n",
    "        self.moudrost = self.mod_moudrost - 1\n",
    "  \n",
    "    def pozdrav(self):\n",
    "        return f\"{self.jmeno.upper()}: Ahoj, jsem bojovnik!\"\n",
    "    \n",
    "    def zdravi(self, zivoty):\n",
    "        return self.mod_zdravi * zivoty\n",
    "    \n",
    "    @staticmethod\n",
    "    def sila_utoku(sila):\n",
    "        return random.choice(range(sila + 1))\n",
    "    \n",
    "    @classmethod\n",
    "    def vytvor_instanci(cls):\n",
    "        return cls(\"Arnold\", 40, 10)"
   ]
  },
  {
   "cell_type": "code",
   "execution_count": 4,
   "metadata": {},
   "outputs": [],
   "source": [
    "bojovnik_1 = Bojovnik.vytvor_instanci()"
   ]
  },
  {
   "cell_type": "code",
   "execution_count": 5,
   "metadata": {},
   "outputs": [],
   "source": [
    "class Kouzelnik(Clovek):  \n",
    "    def __init__(self, jmeno, sila, zivoty):\n",
    "        self.jmeno = jmeno\n",
    "        self.zivoty = zivoty\n",
    "        self.sila = self.sila_utoku(sila)\n",
    "        self.energie = self.mod_energie + 1\n",
    "        self.max_zivoty = self.zdravi(zivoty)\n",
    "        self.akt_zivoty = self.max_zivoty\n",
    "        self.moudrost = self.mod_moudrost + 1\n",
    "        \n",
    "    def pozdrav(self):\n",
    "        return f\"{self.jmeno.upper()}: Ahoj, jsem kouzelnik!\"\n",
    "    \n",
    "    def zdravi(self, zivoty):\n",
    "        return self.mod_zdravi * zivoty\n",
    "    \n",
    "    @staticmethod\n",
    "    def sila_utoku(sila):\n",
    "        return sila\n",
    "        \n",
    "    @classmethod\n",
    "    def vytvor_instanci(cls):\n",
    "        return cls(\"Matous\", 20, 7)"
   ]
  },
  {
   "cell_type": "code",
   "execution_count": 6,
   "metadata": {},
   "outputs": [],
   "source": [
    "kouzelnik_1 = Kouzelnik.vytvor_instanci()"
   ]
  },
  {
   "cell_type": "markdown",
   "metadata": {},
   "source": [
    "#### Přidáme hráče do arény"
   ]
  },
  {
   "cell_type": "code",
   "execution_count": 7,
   "metadata": {},
   "outputs": [],
   "source": [
    "arena = [bojovnik_1, kouzelnik_1]"
   ]
  },
  {
   "cell_type": "code",
   "execution_count": null,
   "metadata": {},
   "outputs": [],
   "source": [
    "print(arena[0].jmeno, arena[1].jmeno)"
   ]
  },
  {
   "cell_type": "markdown",
   "metadata": {},
   "source": [
    "#### Moudřejší neustoupí"
   ]
  },
  {
   "cell_type": "code",
   "execution_count": 8,
   "metadata": {},
   "outputs": [],
   "source": [
    "if bojovnik_1.moudrost > kouzelnik_1.moudrost:\n",
    "    hrac_1 = bojovnik_1\n",
    "    hrac_2 = kouzelnik_1\n",
    "hrac_1 = kouzelnik_1\n",
    "hrac_2 = bojovnik_1"
   ]
  },
  {
   "cell_type": "code",
   "execution_count": null,
   "metadata": {},
   "outputs": [],
   "source": [
    "print(hrac_1.jmeno)"
   ]
  },
  {
   "cell_type": "code",
   "execution_count": 9,
   "metadata": {},
   "outputs": [],
   "source": [
    "def utok_hrace(hrac):\n",
    "    if hrac.jmeno == \"Arnold\": \n",
    "        return random.choice(range(hrac.sila + 1))\n",
    "    else:\n",
    "        return hrac.sila     "
   ]
  },
  {
   "cell_type": "markdown",
   "metadata": {},
   "source": [
    "#### Začátek souboje"
   ]
  },
  {
   "cell_type": "code",
   "execution_count": 10,
   "metadata": {},
   "outputs": [
    {
     "name": "stdout",
     "output_type": "stream",
     "text": [
      "Arnold UTOCI ZA: 37 (ZBYVA: 0)\n",
      "Matous: -8/70\n",
      "Vyhrava: Arnold\n"
     ]
    }
   ],
   "source": [
    "while len(arena) == 2:\n",
    "    clear_output()\n",
    "    utok = utok_hrace(hrac_1)\n",
    "    hrac_1.energie -= 1\n",
    "    print(f\"{hrac_1.jmeno} UTOCI ZA: {utok} (ZBYVA: {hrac_1.energie})\")\n",
    "    hrac_2.akt_zivoty -= utok\n",
    "    print(f\"{hrac_2.jmeno}: {hrac_2.akt_zivoty}/{hrac_2.max_zivoty}\")\n",
    "    time.sleep(2)\n",
    "\n",
    "    \n",
    "    if hrac_2.akt_zivoty <= 0:\n",
    "        print(f\"Vyhrava: {hrac_1.jmeno}\")\n",
    "        break\n",
    "    elif hrac_1.energie == 0:\n",
    "        print(f\"Vyhrava: {hrac_2.jmeno}\")\n",
    "        break\n",
    "    else:\n",
    "        hrac_2, hrac_1 = hrac_1, hrac_2"
   ]
  },
  {
   "cell_type": "markdown",
   "metadata": {},
   "source": [
    "Aby mohli hraci bojovat v nasi arene, musim byt prihlaseni. Nechceme dovolit hrat v arene nekomu, kdo neni prihlaseny.\n",
    "\n",
    "Hrac si muze vybrat jakou postavu chce ovladat. Muzeme mit hrace bojovnika, prip. hrace kouzelnika.\n",
    "\n",
    "Snazime se v nasem kodu neopakovat instrukce nekolikrat (princip DRY). Dale se snazime rozdelit, co patri ke tride `Hrac` a co logicky patri ke tride postav.\n",
    "\n",
    "Funkce `isinstance`, aplikace (instance, class)\n",
    "\n",
    "Vsechny objekty v Pythonu dedi ze zakladni tridy `object` (proto mame automaticke metody (jak list, tak moje trida)\n",
    "\n",
    "class User(object):\n",
    "    pass"
   ]
  },
  {
   "cell_type": "markdown",
   "metadata": {},
   "source": [
    "### Dunder method"
   ]
  }
 ],
 "metadata": {
  "kernelspec": {
   "display_name": "Python 3",
   "language": "python",
   "name": "python3"
  },
  "language_info": {
   "codemirror_mode": {
    "name": "ipython",
    "version": 3
   },
   "file_extension": ".py",
   "mimetype": "text/x-python",
   "name": "python",
   "nbconvert_exporter": "python",
   "pygments_lexer": "ipython3",
   "version": "3.8.5"
  }
 },
 "nbformat": 4,
 "nbformat_minor": 4
}
