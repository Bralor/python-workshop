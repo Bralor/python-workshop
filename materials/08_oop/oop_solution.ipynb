{
 "cells": [
  {
   "cell_type": "markdown",
   "metadata": {},
   "source": [
    "## Engeto, Python akademie 2021, OOP"
   ]
  },
  {
   "cell_type": "markdown",
   "metadata": {},
   "source": [
    "## Obsah lekce:\n",
    "1. Uzitecne odkazy\n",
    "2. Ukazka ulohy\n",
    "3. OOP koncept, obecne\n",
    "4. OOP, Python\n",
    "5. Tridni atributy, tridni metody, staticke metody\n",
    "6. encapsulation\n",
    "7. abstraction\n",
    "8. inheritance\n",
    "9. Polymorphism\n",
    "10. Dunder methods -> double underscore methods\n",
    "---\n",
    "\n",
    "<br />"
   ]
  },
  {
   "cell_type": "markdown",
   "metadata": {},
   "source": [
    "### Užitečné odkazy"
   ]
  },
  {
   "cell_type": "markdown",
   "metadata": {},
   "source": [
    "### OOP, obecně\n",
    "~Objektově orientované programování\n"
   ]
  },
  {
   "cell_type": "markdown",
   "metadata": {},
   "source": [
    "### OOP, Python\n",
    "- Všechno v Pythonu jsou objekty\n",
    "- Objekty obsahují různé metody, které můžeme na naše objekty použít\n",
    "- Mají metody a atributy (pomocí tečky)\n",
    "- V podstatě můžeme vytvřít vlastní dat. typy a jejich metody\n",
    "- Způsob jak napsat, udržovat a rozšiřovat náš kód\n",
    "- "
   ]
  },
  {
   "cell_type": "code",
   "execution_count": null,
   "metadata": {},
   "outputs": [],
   "source": [
    "print(type(None))\n",
    "print(type(True))\n",
    "print(type(5))"
   ]
  },
  {
   "cell_type": "markdown",
   "metadata": {},
   "source": [
    "### Konvence"
   ]
  },
  {
   "cell_type": "code",
   "execution_count": null,
   "metadata": {},
   "outputs": [],
   "source": [
    "class NovyObjekt:  # camelCase\n",
    "    pass"
   ]
  },
  {
   "cell_type": "code",
   "execution_count": null,
   "metadata": {},
   "outputs": [],
   "source": [
    "print(type(NovyObjekt))"
   ]
  },
  {
   "cell_type": "markdown",
   "metadata": {},
   "source": [
    "Jde pouze o sablonu, ale ne o samotny novy objekt"
   ]
  },
  {
   "cell_type": "code",
   "execution_count": null,
   "metadata": {},
   "outputs": [],
   "source": [
    "priklad_1 = NovyObjekt()"
   ]
  },
  {
   "cell_type": "code",
   "execution_count": null,
   "metadata": {
    "scrolled": true
   },
   "outputs": [],
   "source": [
    "print(type(priklad_1))"
   ]
  },
  {
   "cell_type": "markdown",
   "metadata": {},
   "source": [
    "Muj vlastni objekt\n",
    "\n",
    "Muzu vytvorit nekolik listu, kazdy ma metodu append, insert\n",
    "\n",
    "Navod bude v pameti, nemusim prepisovat kod, jdi do pameti a spust moji tridu, kdyz uvidi vytvoreni instance\n"
   ]
  },
  {
   "cell_type": "code",
   "execution_count": null,
   "metadata": {},
   "outputs": [],
   "source": [
    "class PlayerCharacter: # singular, cameLCase\n",
    "    def __init__(self, name):  # self - pomaha pri instancovani\n",
    "        self.name = name  # self - odkaz na neco, co jsem jeste nevytvoril, ale pocitam s tim\n",
    "    \n",
    "    def health(self):\n",
    "        print(\"Full health\")"
   ]
  },
  {
   "cell_type": "code",
   "execution_count": null,
   "metadata": {},
   "outputs": [],
   "source": [
    "pl_1 = PlayerCharacter()"
   ]
  },
  {
   "cell_type": "markdown",
   "metadata": {},
   "source": [
    "TypeError -> pri instancovani tridy jsem zapomnel pos.arg `name`. Musime doplnit pro spravny beh a vytvoreni instance `pl_1`."
   ]
  },
  {
   "cell_type": "code",
   "execution_count": null,
   "metadata": {},
   "outputs": [],
   "source": [
    "pl_1 = PlayerCharacter(\"Matous\")"
   ]
  },
  {
   "cell_type": "code",
   "execution_count": null,
   "metadata": {},
   "outputs": [],
   "source": [
    "print(pl_1)"
   ]
  },
  {
   "cell_type": "code",
   "execution_count": null,
   "metadata": {},
   "outputs": [],
   "source": [
    "print(pl_1.name)"
   ]
  },
  {
   "cell_type": "markdown",
   "metadata": {},
   "source": [
    "Pomoci `self` muzu vytvorit ruzne mnozstvi hracu a v kazde instanci mit ruzne jmeno."
   ]
  },
  {
   "cell_type": "code",
   "execution_count": null,
   "metadata": {},
   "outputs": [],
   "source": [
    "pl_2 = PlayerCharacter(\"Tom\")"
   ]
  },
  {
   "cell_type": "code",
   "execution_count": null,
   "metadata": {},
   "outputs": [],
   "source": [
    "print(pl_1.attack)"
   ]
  },
  {
   "cell_type": "markdown",
   "metadata": {},
   "source": [
    "### Atributy, metody tříd a statické metody"
   ]
  },
  {
   "cell_type": "markdown",
   "metadata": {},
   "source": [
    "Atribut objektu tridy, napr:"
   ]
  },
  {
   "cell_type": "code",
   "execution_count": null,
   "metadata": {},
   "outputs": [],
   "source": [
    "class PlayerCharacter:\n",
    "    membership = True  # class object attribute (static)\n",
    "    \n",
    "    def __init__(self, name):\n",
    "        self.name = name\n",
    "        \n",
    "    def health(self):\n",
    "        print(\"Full health\")\n",
    "        return \"Done\"\n",
    "    \n",
    "    def shout(self):\n",
    "        print(f\"Uaa, jmenuji se {self.name}!\")"
   ]
  },
  {
   "cell_type": "code",
   "execution_count": null,
   "metadata": {},
   "outputs": [],
   "source": [
    "pl_1 = PlayerCharacter(\"Matous\")\n",
    "pl_2 = PlayerCharacter(\"Tom\")"
   ]
  },
  {
   "cell_type": "code",
   "execution_count": null,
   "metadata": {},
   "outputs": [],
   "source": [
    "print(pl_1.membership)\n",
    "print(pl_2.membership)"
   ]
  },
  {
   "cell_type": "markdown",
   "metadata": {},
   "source": [
    "Aktivni u vsech instatnci tridy. Bud pomoci tridy `PlayerCharacter` nebo pomoci `pl_1` jmena instance."
   ]
  },
  {
   "cell_type": "code",
   "execution_count": null,
   "metadata": {
    "scrolled": true
   },
   "outputs": [],
   "source": [
    "pl_1.shout()"
   ]
  },
  {
   "cell_type": "code",
   "execution_count": null,
   "metadata": {},
   "outputs": [],
   "source": [
    "class PlayerCharacter:\n",
    "    membership = True  # class object attribute (static)\n",
    "    \n",
    "    def __init__(self, name, vitality):\n",
    "        self.name = name\n",
    "        self.vitality = vitality\n",
    "        \n",
    "    def health(self):\n",
    "        print(f\"Moje zdravi: {self.vitality}\")\n",
    "  \n",
    "    def shout(self):\n",
    "        print(f\"Uaa, jmenuji se {self.name}!\")  # PlayerCharacter.name"
   ]
  },
  {
   "cell_type": "code",
   "execution_count": null,
   "metadata": {},
   "outputs": [],
   "source": [
    "pl_1 = PlayerCharacter(\"Matous\", 100)\n",
    "pl_2 = PlayerCharacter(\"Tom\", 100)"
   ]
  },
  {
   "cell_type": "code",
   "execution_count": null,
   "metadata": {
    "scrolled": false
   },
   "outputs": [],
   "source": [
    "pl_1.shout()\n",
    "pl_1.health()"
   ]
  },
  {
   "cell_type": "markdown",
   "metadata": {},
   "source": [
    "`name` neni samozrejme tridni atribut (nepatri tride samotne), a proto jej trida `PlayerCharacter` neumi zpristupnit. Je to promenna, ktera patri metode `__init__`. Takze k ni bude mit trida pristup az po instancovani, tedy vytvoreni nove instance teto tridy."
   ]
  },
  {
   "cell_type": "markdown",
   "metadata": {},
   "source": [
    "### class method & static method"
   ]
  },
  {
   "cell_type": "code",
   "execution_count": 26,
   "metadata": {},
   "outputs": [],
   "source": [
    "import random\n",
    "\n",
    "\n",
    "class PlayerCharacter:\n",
    "    membership = True  # class object attribute (static)\n",
    "    \n",
    "    def __init__(self, name, vitality, attack):\n",
    "        self.name = name\n",
    "        self.vitality = vitality\n",
    "        self.attack = attack\n",
    "        \n",
    "    def health(self):\n",
    "        print(f\"Moje zdravi: {self.vitality * 10}\")\n",
    "\n",
    "    def shout(self):\n",
    "        print(f\"Uaa, jmenuji se {self.name}!\")  # PlayerCharacter.name\n",
    "\n",
    "    @staticmethod\n",
    "    def attack(max_attack):\n",
    "        return random.choice(range(max_attack))\n",
    "    @classmethod\n",
    "    def random_attack_number(cls, min, max):\n",
    "        return cls(\"Lukas\", 11, random.randint(min, max))"
   ]
  },
  {
   "cell_type": "code",
   "execution_count": 27,
   "metadata": {},
   "outputs": [],
   "source": [
    "pl_1 = PlayerCharacter(\"Matous\", 9, 20)\n",
    "pl_2 = PlayerCharacter.random_attack_number(10, 20)"
   ]
  },
  {
   "cell_type": "code",
   "execution_count": 28,
   "metadata": {
    "scrolled": true
   },
   "outputs": [
    {
     "name": "stdout",
     "output_type": "stream",
     "text": [
      "Uaa, jmenuji se Matous!\n",
      "Moje zdravi: 90\n",
      "Utok: 14\n",
      "Uaa, jmenuji se Lukas!\n",
      "Moje zdravi: 110\n",
      "Utok: 16\n"
     ]
    }
   ],
   "source": [
    "pl_1.shout()\n",
    "pl_1.health()\n",
    "print(f\"Utok: {PlayerCharacter.attack(pl_1.attack)}\")\n",
    "pl_2.shout()\n",
    "pl_2.health()\n",
    "print(f\"Utok: {pl_2.attack}\")"
   ]
  },
  {
   "cell_type": "markdown",
   "metadata": {},
   "source": [
    "Classmethod decorator slouzi k pouziti metody pro ruzne tridy. Nesmime zapomenout pouzit paramttr `cls`, ktery odkazuje na konkretni tridu. V cem je ale vyhoda je, ze muzou pouzit funkci, aniz bych instancoval tridu samotnou! Nejsou vsak tak pouzivane, vetsinou pracujeme s metodami v ramci funkce. Je tu ovsem varianta, jak se da classmethod pouzit a to je pro vytvoreni instance samotne"
   ]
  },
  {
   "cell_type": "markdown",
   "metadata": {},
   "source": [
    "@Staticmethod dokonce nevi vubec nic jak o tride, tak o jeji instanci."
   ]
  },
  {
   "cell_type": "code",
   "execution_count": null,
   "metadata": {},
   "outputs": [],
   "source": []
  },
  {
   "cell_type": "markdown",
   "metadata": {},
   "source": [
    "### Encapsulation"
   ]
  },
  {
   "cell_type": "markdown",
   "metadata": {},
   "source": [
    "### Abstraction"
   ]
  },
  {
   "cell_type": "markdown",
   "metadata": {},
   "source": [
    "### Inheritance"
   ]
  },
  {
   "cell_type": "markdown",
   "metadata": {},
   "source": [
    "### Polymorphism"
   ]
  },
  {
   "cell_type": "markdown",
   "metadata": {},
   "source": [
    "### Dunder method"
   ]
  }
 ],
 "metadata": {
  "kernelspec": {
   "display_name": "Python 3",
   "language": "python",
   "name": "python3"
  },
  "language_info": {
   "codemirror_mode": {
    "name": "ipython",
    "version": 3
   },
   "file_extension": ".py",
   "mimetype": "text/x-python",
   "name": "python",
   "nbconvert_exporter": "python",
   "pygments_lexer": "ipython3",
   "version": "3.8.5"
  }
 },
 "nbformat": 4,
 "nbformat_minor": 4
}
